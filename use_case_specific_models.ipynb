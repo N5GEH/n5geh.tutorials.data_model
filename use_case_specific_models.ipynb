{
 "cells": [
  {
   "cell_type": "markdown",
   "id": "2c9ed420",
   "metadata": {},
   "source": [
    "# N5GEH-Sev datamodeling workshop\n",
    "A data model is a conceptual representation of data objects, associations, and constraints. It provides a structured framework for understanding and organizing information within a database system, e.g. FIWARE stack.\n",
    "\n",
    "This example shows a workflow, how you can define or reuse use case specific data models and ensure FIWARE compatibility by merging these models with existing data model in FiLiP. The merged models can be used for interaction with FIWARE platform and in other information processing systems to establish interoperability."
   ]
  },
  {
   "cell_type": "markdown",
   "id": "6edb04fd",
   "metadata": {},
   "source": [
    "## Use Case\n",
    "In this example, our use case is to capture data and information of a weather station in FIWARE stack. We will first create data models for necessary components. And then, we will also showcase how to export, share and reuse the data models.\n",
    "\n",
    "## Import dependency"
   ]
  },
  {
   "cell_type": "code",
   "execution_count": 1,
   "id": "15e4fd0e",
   "metadata": {},
   "outputs": [],
   "source": [
    "from pydantic import ConfigDict, BaseModel\n",
    "from pydantic.fields import Field, FieldInfo\n",
    "from typing import Any, Optional\n",
    "from filip.models import FiwareHeader\n",
    "from filip.models.ngsi_v2.context import ContextEntityKeyValues\n",
    "from filip.clients.ngsi_v2.cb import ContextBrokerClient"
   ]
  },
  {
   "cell_type": "markdown",
   "id": "da0c69c6",
   "metadata": {
    "pycharm": {
     "name": "#%% md\n"
    }
   },
   "source": [
    "## Create data model\n",
    "Good data modelling can harmonise representation formats and semantics for various applications. Therefore, we try to reuse existing data models. For our specific use case, we can also define our own data models.\n",
    "\n",
    "### Common data models\n",
    "Some data models are use case agnostic. For example, we reuse the data model of `PostalAddress` from [https://schema.org/](https://schema.org/) to represent the address of the weather station"
   ]
  },
  {
   "cell_type": "code",
   "execution_count": 2,
   "id": "17dfac7b",
   "metadata": {
    "pycharm": {
     "name": "#%%\n"
    }
   },
   "outputs": [],
   "source": [
    "class PostalAddress(BaseModel):\n",
    "    \"\"\"\n",
    "    https://schema.org/PostalAddress\n",
    "    \"\"\"\n",
    "\n",
    "    model_config = ConfigDict(populate_by_name=True, coerce_numbers_to_str=True)  # Pydantic specific settings\n",
    "\n",
    "    addressCountry: str = Field(\n",
    "        alias=\"addressCountry\",\n",
    "        description=\"County code according to ISO 3166-1-alpha-2\",\n",
    "    )\n",
    "    streetAddress: str = Field(\n",
    "        alias=\"streetAddress\",\n",
    "        description=\"The street address. For example, 1600 Amphitheatre Pkwy.\",\n",
    "    )\n",
    "    addressRegion: Optional[str] = Field(\n",
    "        alias=\"addressRegion\",\n",
    "        default=None,\n",
    "    )\n",
    "    addressLocality: Optional[str] = Field(\n",
    "        alias=\"addressLocality\",\n",
    "        default=None,\n",
    "        description=\"The locality in which the street address is, and which is \"\n",
    "                    \"in the region. For example, Mountain View.\",\n",
    "    )\n",
    "    postalCode: Optional[str] = Field(\n",
    "        alias=\"postalCode\",\n",
    "        default=None,\n",
    "        description=\"The postal code. For example, 94043.\",\n",
    "    )"
   ]
  },
  {
   "cell_type": "markdown",
   "id": "6d4b4dd0",
   "metadata": {
    "pycharm": {
     "name": "#%% md\n"
    }
   },
   "source": [
    "### Domain data models\n",
    "Some other data models are related with a specific domain. For example, [Brick](https://brickschema.org/) provides an open-source standardized semantic description in building domain."
   ]
  },
  {
   "cell_type": "code",
   "execution_count": 3,
   "id": "b64e72b1",
   "metadata": {
    "pycharm": {
     "name": "#%%\n"
    }
   },
   "outputs": [],
   "source": [
    "class OutsideAirTemperatureSensor(BaseModel):\n",
    "    temperature: float = Field(\n",
    "        default=20.0,\n",
    "        description=\"brick:Quantity, measure temperature in degree Celsius\"\n",
    "    )\n",
    "\n",
    "class OutsideAirHumiditySensor(BaseModel):\n",
    "    humidity: float = Field(\n",
    "        default=50.0,\n",
    "        description=\"brick:Quantity, measure humidity in percentage\"\n",
    "    )\n",
    "\n",
    "class WindDirectionSensor(BaseModel):\n",
    "    windDirection: float = Field(\n",
    "        default=90.0,\n",
    "        description=\"brick:Quantity, measure wind direction in degrees (0 degree for North)\"\n",
    "    )\n",
    "\n",
    "class WindSpeedSensor(BaseModel):\n",
    "    windSpeed: float = Field(\n",
    "        default=50.0,\n",
    "        description=\"brick:Quantity, measure wind speed in m/s\"\n",
    "    )\n",
    "\n",
    "class WeatherStation(BaseModel):\n",
    "    model_config = ConfigDict(coerce_numbers_to_str=True, extra=\"ignore\")  # Pydantic specific settings\n",
    "    # TODO Any\n",
    "    hasOutsideAirTemperatureSensor: Any = Field(\n",
    "        default=None,\n",
    "        description=\"brick:hasPoint, link with a URI of OutsideAirTemperatureSensor\",\n",
    "    )\n",
    "    hasOutsideAirHumiditySensor: Any = Field(\n",
    "        default=None,\n",
    "        description=\"brick:hasPoint, link with a URI of OutsideAirHumiditySensor\",\n",
    "    )\n",
    "    hasWindDirectionSensor: Any = Field(\n",
    "        default=None,\n",
    "        description=\"brick:hasPoint, link with a URI of WindDirectionSensor\",\n",
    "    )\n",
    "    hasWindSpeedSensor: Any = Field(\n",
    "        default=None,\n",
    "        description=\"brick:hasPoint, link with a URI of WindSpeedSensor\",\n",
    "    )\n",
    "    hasAddress: PostalAddress"
   ]
  },
  {
   "cell_type": "markdown",
   "id": "60fd6181",
   "metadata": {
    "pycharm": {
     "name": "#%% md\n"
    }
   },
   "source": [
    "## Compliance with FIWARE\n",
    "After creating the data models, we also want to ensure the FIWARE compatibility. For this purpose, we can simply merge the data models of our use cases with the existing FIWARE models in `FiLiP`"
   ]
  },
  {
   "cell_type": "code",
   "execution_count": 4,
   "id": "d4c6a179",
   "metadata": {
    "pycharm": {
     "name": "#%%\n"
    }
   },
   "outputs": [],
   "source": [
    "# Merge models with simplified entity model\n",
    "class WeatherStationFIWARE(WeatherStation, ContextEntityKeyValues):\n",
    "    # add default for type if not explicitly set\n",
    "    type: str = FieldInfo.merge_field_infos(\n",
    "        # Field info of the general FIWARE data model in FiLiP\n",
    "        ContextEntityKeyValues.model_fields[\"type\"],\n",
    "        # set the default value\n",
    "        default=\"WeatherStation\",\n",
    "        description=\"Type of the Weather Station\",\n",
    "    )\n",
    "class OutsideAirTemperatureSensorFIWARE(OutsideAirTemperatureSensor, ContextEntityKeyValues):\n",
    "    type: str = FieldInfo.merge_field_infos(\n",
    "        # Field info of the general FIWARE data model in FiLiP\n",
    "        ContextEntityKeyValues.model_fields[\"type\"],\n",
    "        default=\"OutsideAirTemperatureSensor\"\n",
    "    )\n",
    "class OutsideAirHumiditySensorFIWARE(OutsideAirHumiditySensor, ContextEntityKeyValues):\n",
    "    type: str = FieldInfo.merge_field_infos(\n",
    "        # Field info of the general FIWARE data model in FiLiP\n",
    "        ContextEntityKeyValues.model_fields[\"type\"],\n",
    "        default=\"OutsideAirHumiditySensor\"\n",
    "    )\n",
    "\n",
    "class WindDirectionSensorFIWARE(WindDirectionSensor, ContextEntityKeyValues):\n",
    "    type: str = FieldInfo.merge_field_infos(\n",
    "        # Field info of the general FIWARE data model in FiLiP\n",
    "        ContextEntityKeyValues.model_fields[\"type\"],\n",
    "        default=\"WindDirectionSensor\"\n",
    "    )\n",
    "\n",
    "class WindSpeedSensorFIWARE(WindSpeedSensor, ContextEntityKeyValues):\n",
    "    type: str = FieldInfo.merge_field_infos(\n",
    "        # Field info of the general FIWARE data model in FiLiP\n",
    "        ContextEntityKeyValues.model_fields[\"type\"],\n",
    "        default=\"WindSpeedSensor\"\n",
    "    )"
   ]
  },
  {
   "cell_type": "markdown",
   "id": "3d3ea68e",
   "metadata": {
    "pycharm": {
     "name": "#%% md\n"
    }
   },
   "source": [
    "## Using data models for internal applications\n",
    "Initializing FIWARE API client"
   ]
  },
  {
   "cell_type": "code",
   "execution_count": 5,
   "id": "df973933",
   "metadata": {
    "pycharm": {
     "name": "#%%\n"
    }
   },
   "outputs": [],
   "source": [
    "CB_URL = \"http://134.130.166.184:1026\"\n",
    "SERVICE = 'filip'  # FIWARE-Service\n",
    "SERVICE_PATH = '/'  # FIWARE-Servicepath\n",
    "fiware_header = FiwareHeader(service=SERVICE,\n",
    "                             service_path=SERVICE_PATH)\n",
    "cb_client = ContextBrokerClient(url=CB_URL, fiware_header=fiware_header)"
   ]
  },
  {
   "cell_type": "markdown",
   "id": "52ea7141",
   "metadata": {
    "collapsed": false,
    "jupyter": {
     "outputs_hidden": false
    },
    "pycharm": {
     "name": "#%% md\n"
    }
   },
   "source": [
    "Provision data points for sensors using data models"
   ]
  },
  {
   "cell_type": "code",
   "execution_count": 6,
   "id": "6a54b34d",
   "metadata": {
    "collapsed": false,
    "jupyter": {
     "outputs_hidden": false
    },
    "pycharm": {
     "name": "#%%\n"
    }
   },
   "outputs": [],
   "source": [
    "t_sen = OutsideAirTemperatureSensorFIWARE(id=\"OutsideAirTemperatureSensor:01\")\n",
    "h_sen = OutsideAirHumiditySensorFIWARE(id=\"OutsideAirHumiditySensor:01\")\n",
    "wind_d = WindDirectionSensorFIWARE(id=\"WindDirectionSensor:01\")\n",
    "wind_s = WindSpeedSensorFIWARE(id=\"WindSpeedSensor:01\")\n",
    "for entity in (t_sen, h_sen, wind_s, wind_d):\n",
    "    cb_client.post_entity(entity=entity, key_values=True, update=True)"
   ]
  },
  {
   "cell_type": "markdown",
   "id": "b22f0c63",
   "metadata": {
    "collapsed": false,
    "jupyter": {
     "outputs_hidden": false
    },
    "pycharm": {
     "name": "#%% md\n"
    }
   },
   "source": [
    "Create weather station and link it with sensors using data models"
   ]
  },
  {
   "cell_type": "code",
   "execution_count": 7,
   "id": "b9e40b1c",
   "metadata": {
    "collapsed": false,
    "jupyter": {
     "outputs_hidden": false
    },
    "pycharm": {
     "name": "#%%\n"
    }
   },
   "outputs": [],
   "source": [
    "ws = WeatherStationFIWARE(\n",
    "    id=\"WeatherStation:01\",\n",
    "    hasAddress={\n",
    "            \"addressCountry\": \"Germany\",\n",
    "            \"streetAddress\": \"Mathieustr. 10\",\n",
    "            \"postalCode\": 52072,\n",
    "        },\n",
    ")\n",
    "ws.hasOutsideAirTemperatureSensor = t_sen.id\n",
    "ws.hasOutsideAirHumiditySensor = h_sen.id\n",
    "ws.hasWindDirectionSensor = wind_d.id\n",
    "ws.hasWindSpeedSensor = wind_s.id\n",
    "cb_client.post_entity(entity=ws, key_values=True, update=True)"
   ]
  },
  {
   "cell_type": "markdown",
   "id": "ca1ef160",
   "metadata": {
    "collapsed": false,
    "jupyter": {
     "outputs_hidden": false
    },
    "pycharm": {
     "name": "#%% md\n"
    }
   },
   "source": [
    "Read and use data based on data model"
   ]
  },
  {
   "cell_type": "code",
   "execution_count": 8,
   "id": "16b68813",
   "metadata": {
    "collapsed": false,
    "jupyter": {
     "outputs_hidden": false
    },
    "pycharm": {
     "name": "#%%\n"
    }
   },
   "outputs": [
    {
     "name": "stdout",
     "output_type": "stream",
     "text": [
      "{'id': 'WeatherStation:01', 'type': 'WeatherStation', 'hasAddress': {'addressCountry': 'Germany', 'streetAddress': 'Mathieustr. 10', 'addressRegion': None, 'addressLocality': None, 'postalCode': '52072'}, 'hasOutsideAirHumiditySensor': 'OutsideAirHumiditySensor:01', 'hasOutsideAirTemperatureSensor': 'OutsideAirTemperatureSensor:01', 'hasWindDirectionSensor': 'WindDirectionSensor:01', 'hasWindSpeedSensor': 'WindSpeedSensor:01'}\n",
      "{\n",
      "  \"hasOutsideAirTemperatureSensor\": \"OutsideAirTemperatureSensor:01\",\n",
      "  \"hasOutsideAirHumiditySensor\": \"OutsideAirHumiditySensor:01\",\n",
      "  \"hasWindDirectionSensor\": \"WindDirectionSensor:01\",\n",
      "  \"hasWindSpeedSensor\": \"WindSpeedSensor:01\",\n",
      "  \"hasAddress\": {\n",
      "    \"addressCountry\": \"Germany\",\n",
      "    \"streetAddress\": \"Mathieustr. 10\",\n",
      "    \"addressRegion\": null,\n",
      "    \"addressLocality\": null,\n",
      "    \"postalCode\": \"52072\"\n",
      "  }\n",
      "}\n",
      "{\n",
      "  \"addressCountry\": \"Germany\",\n",
      "  \"streetAddress\": \"Mathieustr. 10\",\n",
      "  \"addressRegion\": null,\n",
      "  \"addressLocality\": null,\n",
      "  \"postalCode\": \"52072\"\n",
      "}\n",
      "Current temperature: 20.0\n"
     ]
    }
   ],
   "source": [
    "# Read weather station\n",
    "ws_data = cb_client.get_entity(entity_id=\"WeatherStation:01\", response_format=\"keyValues\").model_dump()\n",
    "print(ws_data)\n",
    "ws_general = WeatherStation.model_validate(ws_data)\n",
    "print(ws_general.model_dump_json(indent=2))\n",
    "\n",
    "address = ws_general.hasAddress\n",
    "print(address.model_dump_json(indent=2))\n",
    "\n",
    "# Read temperature\n",
    "temperature_sensor = OutsideAirTemperatureSensor.model_validate(\n",
    "    cb_client.get_entity(\n",
    "    entity_id=ws_general.hasOutsideAirTemperatureSensor,\n",
    "    response_format=\"keyValues\").model_dump()\n",
    ")\n",
    "print(f\"Current temperature: {temperature_sensor.temperature}\")"
   ]
  },
  {
   "cell_type": "markdown",
   "id": "5157a946",
   "metadata": {
    "pycharm": {
     "name": "#%% md\n"
    }
   },
   "source": [
    "## Using data models for external applications\n",
    "So far, data models are solely used by \"us,\" who created them. But what if we have to share the data with partners or external applications? In such scenarios, data models remain highly valuable, facilitating seamless data exchange through validation mechanisms and even programmable objects."
   ]
  },
  {
   "cell_type": "markdown",
   "id": "85b17e0b",
   "metadata": {
    "pycharm": {
     "name": "#%% md\n"
    }
   },
   "source": [
    "### Export serialized data models\n",
    "In order to share data models, we usually need to export the Pydantic classes to serialized data format, i.e. JSON Schema in this example."
   ]
  },
  {
   "cell_type": "code",
   "execution_count": 9,
   "id": "fe80fff7-aabd-4ef7-844b-adb4d0a0d524",
   "metadata": {},
   "outputs": [
    {
     "name": "stdout",
     "output_type": "stream",
     "text": [
      "{'$defs': {'PostalAddress': {'description': 'https://schema.org/PostalAddress',\n",
      "                             'properties': {'addressCountry': {'description': 'County '\n",
      "                                                                              'code '\n",
      "                                                                              'according '\n",
      "                                                                              'to '\n",
      "                                                                              'ISO '\n",
      "                                                                              '3166-1-alpha-2',\n",
      "                                                               'title': 'Addresscountry',\n",
      "                                                               'type': 'string'},\n",
      "                                            'addressLocality': {'anyOf': [{'type': 'string'},\n",
      "                                                                          {'type': 'null'}],\n",
      "                                                                'default': None,\n",
      "                                                                'description': 'The '\n",
      "                                                                               'locality '\n",
      "                                                                               'in '\n",
      "                                                                               'which '\n",
      "                                                                               'the '\n",
      "                                                                               'street '\n",
      "                                                                               'address '\n",
      "                                                                               'is, '\n",
      "                                                                               'and '\n",
      "                                                                               'which '\n",
      "                                                                               'is '\n",
      "                                                                               'in '\n",
      "                                                                               'the '\n",
      "                                                                               'region. '\n",
      "                                                                               'For '\n",
      "                                                                               'example, '\n",
      "                                                                               'Mountain '\n",
      "                                                                               'View.',\n",
      "                                                                'title': 'Addresslocality'},\n",
      "                                            'addressRegion': {'anyOf': [{'type': 'string'},\n",
      "                                                                        {'type': 'null'}],\n",
      "                                                              'default': None,\n",
      "                                                              'title': 'Addressregion'},\n",
      "                                            'postalCode': {'anyOf': [{'type': 'string'},\n",
      "                                                                     {'type': 'null'}],\n",
      "                                                           'default': None,\n",
      "                                                           'description': 'The '\n",
      "                                                                          'postal '\n",
      "                                                                          'code. '\n",
      "                                                                          'For '\n",
      "                                                                          'example, '\n",
      "                                                                          '94043.',\n",
      "                                                           'title': 'Postalcode'},\n",
      "                                            'streetAddress': {'description': 'The '\n",
      "                                                                             'street '\n",
      "                                                                             'address. '\n",
      "                                                                             'For '\n",
      "                                                                             'example, '\n",
      "                                                                             '1600 '\n",
      "                                                                             'Amphitheatre '\n",
      "                                                                             'Pkwy.',\n",
      "                                                              'title': 'Streetaddress',\n",
      "                                                              'type': 'string'}},\n",
      "                             'required': ['addressCountry', 'streetAddress'],\n",
      "                             'title': 'PostalAddress',\n",
      "                             'type': 'object'}},\n",
      " 'properties': {'hasAddress': {'$ref': '#/$defs/PostalAddress'},\n",
      "                'hasOutsideAirHumiditySensor': {'default': None,\n",
      "                                                'description': 'brick:hasPoint, '\n",
      "                                                               'link with a '\n",
      "                                                               'URI of '\n",
      "                                                               'OutsideAirHumiditySensor',\n",
      "                                                'title': 'Hasoutsideairhumiditysensor'},\n",
      "                'hasOutsideAirTemperatureSensor': {'default': None,\n",
      "                                                   'description': 'brick:hasPoint, '\n",
      "                                                                  'link with a '\n",
      "                                                                  'URI of '\n",
      "                                                                  'OutsideAirTemperatureSensor',\n",
      "                                                   'title': 'Hasoutsideairtemperaturesensor'},\n",
      "                'hasWindDirectionSensor': {'default': None,\n",
      "                                           'description': 'brick:hasPoint, '\n",
      "                                                          'link with a URI of '\n",
      "                                                          'WindDirectionSensor',\n",
      "                                           'title': 'Haswinddirectionsensor'},\n",
      "                'hasWindSpeedSensor': {'default': None,\n",
      "                                       'description': 'brick:hasPoint, link '\n",
      "                                                      'with a URI of '\n",
      "                                                      'WindSpeedSensor',\n",
      "                                       'title': 'Haswindspeedsensor'}},\n",
      " 'required': ['hasAddress'],\n",
      " 'title': 'WeatherStation',\n",
      " 'type': 'object'}\n",
      "{'$defs': {'PostalAddress': {'description': 'https://schema.org/PostalAddress',\n",
      "                             'properties': {'addressCountry': {'description': 'County '\n",
      "                                                                              'code '\n",
      "                                                                              'according '\n",
      "                                                                              'to '\n",
      "                                                                              'ISO '\n",
      "                                                                              '3166-1-alpha-2',\n",
      "                                                               'title': 'Addresscountry',\n",
      "                                                               'type': 'string'},\n",
      "                                            'addressLocality': {'anyOf': [{'type': 'string'},\n",
      "                                                                          {'type': 'null'}],\n",
      "                                                                'default': None,\n",
      "                                                                'description': 'The '\n",
      "                                                                               'locality '\n",
      "                                                                               'in '\n",
      "                                                                               'which '\n",
      "                                                                               'the '\n",
      "                                                                               'street '\n",
      "                                                                               'address '\n",
      "                                                                               'is, '\n",
      "                                                                               'and '\n",
      "                                                                               'which '\n",
      "                                                                               'is '\n",
      "                                                                               'in '\n",
      "                                                                               'the '\n",
      "                                                                               'region. '\n",
      "                                                                               'For '\n",
      "                                                                               'example, '\n",
      "                                                                               'Mountain '\n",
      "                                                                               'View.',\n",
      "                                                                'title': 'Addresslocality'},\n",
      "                                            'addressRegion': {'anyOf': [{'type': 'string'},\n",
      "                                                                        {'type': 'null'}],\n",
      "                                                              'default': None,\n",
      "                                                              'title': 'Addressregion'},\n",
      "                                            'postalCode': {'anyOf': [{'type': 'string'},\n",
      "                                                                     {'type': 'null'}],\n",
      "                                                           'default': None,\n",
      "                                                           'description': 'The '\n",
      "                                                                          'postal '\n",
      "                                                                          'code. '\n",
      "                                                                          'For '\n",
      "                                                                          'example, '\n",
      "                                                                          '94043.',\n",
      "                                                           'title': 'Postalcode'},\n",
      "                                            'streetAddress': {'description': 'The '\n",
      "                                                                             'street '\n",
      "                                                                             'address. '\n",
      "                                                                             'For '\n",
      "                                                                             'example, '\n",
      "                                                                             '1600 '\n",
      "                                                                             'Amphitheatre '\n",
      "                                                                             'Pkwy.',\n",
      "                                                              'title': 'Streetaddress',\n",
      "                                                              'type': 'string'}},\n",
      "                             'required': ['addressCountry', 'streetAddress'],\n",
      "                             'title': 'PostalAddress',\n",
      "                             'type': 'object'}},\n",
      " 'additionalProperties': True,\n",
      " 'properties': {'hasAddress': {'$ref': '#/$defs/PostalAddress'},\n",
      "                'hasOutsideAirHumiditySensor': {'default': None,\n",
      "                                                'description': 'brick:hasPoint, '\n",
      "                                                               'link with a '\n",
      "                                                               'URI of '\n",
      "                                                               'OutsideAirHumiditySensor',\n",
      "                                                'title': 'Hasoutsideairhumiditysensor'},\n",
      "                'hasOutsideAirTemperatureSensor': {'default': None,\n",
      "                                                   'description': 'brick:hasPoint, '\n",
      "                                                                  'link with a '\n",
      "                                                                  'URI of '\n",
      "                                                                  'OutsideAirTemperatureSensor',\n",
      "                                                   'title': 'Hasoutsideairtemperaturesensor'},\n",
      "                'hasWindDirectionSensor': {'default': None,\n",
      "                                           'description': 'brick:hasPoint, '\n",
      "                                                          'link with a URI of '\n",
      "                                                          'WindDirectionSensor',\n",
      "                                           'title': 'Haswinddirectionsensor'},\n",
      "                'hasWindSpeedSensor': {'default': None,\n",
      "                                       'description': 'brick:hasPoint, link '\n",
      "                                                      'with a URI of '\n",
      "                                                      'WindSpeedSensor',\n",
      "                                       'title': 'Haswindspeedsensor'},\n",
      "                'id': {'description': 'Id of an entity in an NGSI context '\n",
      "                                      'broker. Allowed characters are the ones '\n",
      "                                      'in the plain ASCII set, except the '\n",
      "                                      'following ones: control characters, '\n",
      "                                      'whitespace, &, ?, / and #.',\n",
      "                       'example': 'Bcn-Welt',\n",
      "                       'maxLength': 256,\n",
      "                       'minLength': 1,\n",
      "                       'title': 'Entity Id',\n",
      "                       'type': 'string'},\n",
      "                'type': {'default': 'WeatherStation',\n",
      "                         'description': 'Type of the Weather Station',\n",
      "                         'example': 'Room',\n",
      "                         'maxLength': 256,\n",
      "                         'minLength': 1,\n",
      "                         'title': 'Entity Type',\n",
      "                         'type': 'string'}},\n",
      " 'required': ['id', 'hasAddress'],\n",
      " 'title': 'WeatherStationFIWARE',\n",
      " 'type': 'object'}\n"
     ]
    }
   ],
   "source": [
    "from pprint import pprint\n",
    "import json\n",
    "\n",
    "weather_station_schema = WeatherStation.model_json_schema()\n",
    "with open(\"./weather_station_schema.json\", \"w\") as f:\n",
    "    json.dump(weather_station_schema, f)\n",
    "pprint(weather_station_schema)\n",
    "\n",
    "weather_station_fiware_schema = WeatherStationFIWARE.model_json_schema()\n",
    "with open(\"./weather_station_fiware_schema.json\", \"w\") as f:\n",
    "    json.dump(weather_station_fiware_schema, f)\n",
    "pprint(weather_station_fiware_schema)"
   ]
  },
  {
   "cell_type": "markdown",
   "id": "1e121604",
   "metadata": {
    "pycharm": {
     "name": "#%% md\n"
    }
   },
   "source": [
    "### Use data models in other applications\n",
    "As you can see above, the exported data model is based on normal JSON syntax, and is therefore both machine and human readable. There are various libraries, that support parsing this data. For example, in Python `jsonschema` can be use to validate the data against the data model, and `datamodel-code-generator` can be used to generate python objects."
   ]
  },
  {
   "cell_type": "code",
   "execution_count": 10,
   "id": "b8ab6713-8721-48ad-b647-bab11f15508c",
   "metadata": {},
   "outputs": [
    {
     "name": "stdout",
     "output_type": "stream",
     "text": [
      "The data conforms to the data model\n"
     ]
    }
   ],
   "source": [
    "# Validation\n",
    "from jsonschema import validate\n",
    "ws_data = cb_client.get_entity(entity_id=\"WeatherStation:01\", response_format=\"keyValues\").model_dump()\n",
    "validate(instance=ws_data, schema=weather_station_schema)\n",
    "print(\"The data conforms to the data model\")"
   ]
  },
  {
   "cell_type": "code",
   "execution_count": 11,
   "id": "3b633d28-351f-4803-9e64-54edafadde47",
   "metadata": {},
   "outputs": [
    {
     "name": "stdout",
     "output_type": "stream",
     "text": [
      "Pyhton object 'GeneratedWeatherStation' generated in 'output\\weather_station.py'\n"
     ]
    }
   ],
   "source": [
    "# Parse serialized models\n",
    "from pathlib import Path\n",
    "from datamodel_code_generator import generate, DataModelType, InputFileType\n",
    "output_path=Path(\"./output/weather_station.py\")\n",
    "class_name=\"GeneratedWeatherStation\"\n",
    "generate(Path(\"./weather_station_schema.json\"),\n",
    "         class_name=class_name,\n",
    "         output=output_path,\n",
    "         output_model_type=DataModelType.PydanticV2BaseModel,\n",
    "         use_subclass_enum=True,\n",
    "         input_file_type=InputFileType.JsonSchema\n",
    "        )\n",
    "print(f\"Pyhton object '{class_name}' generated in '{output_path}'\")"
   ]
  },
  {
   "cell_type": "code",
   "execution_count": 12,
   "id": "3c19c342-235e-46c3-854a-c4805c6d275d",
   "metadata": {},
   "outputs": [
    {
     "name": "stdout",
     "output_type": "stream",
     "text": [
      "{\n",
      "  \"hasOutsideAirTemperatureSensor\": \"OutsideAirTemperatureSensor:01\",\n",
      "  \"hasOutsideAirHumiditySensor\": \"OutsideAirHumiditySensor:01\",\n",
      "  \"hasWindDirectionSensor\": \"WindDirectionSensor:01\",\n",
      "  \"hasWindSpeedSensor\": \"WindSpeedSensor:01\",\n",
      "  \"hasAddress\": {\n",
      "    \"addressCountry\": \"Germany\",\n",
      "    \"streetAddress\": \"Mathieustr. 10\",\n",
      "    \"addressRegion\": null,\n",
      "    \"addressLocality\": null,\n",
      "    \"postalCode\": \"52072\"\n",
      "  }\n",
      "}\n",
      "{\n",
      "  \"addressCountry\": \"Germany\",\n",
      "  \"streetAddress\": \"Mathieustr. 10\",\n",
      "  \"addressRegion\": null,\n",
      "  \"addressLocality\": null,\n",
      "  \"postalCode\": \"52072\"\n",
      "}\n"
     ]
    }
   ],
   "source": [
    "# Use generated python object\n",
    "from output.weather_station import GeneratedWeatherStation\n",
    "ws_data = cb_client.get_entity(entity_id=\"WeatherStation:01\", response_format=\"keyValues\").model_dump()\n",
    "ws_generated = GeneratedWeatherStation.model_validate(ws_data)\n",
    "print(ws_generated.model_dump_json(indent=2))\n",
    "print(ws_generated.hasAddress.model_dump_json(indent=2))"
   ]
  }
 ],
 "metadata": {
  "kernelspec": {
   "display_name": "n5g-workshop",
   "language": "python",
   "name": "n5g-workshop"
  },
  "language_info": {
   "codemirror_mode": {
    "name": "ipython",
    "version": 3
   },
   "file_extension": ".py",
   "mimetype": "text/x-python",
   "name": "python",
   "nbconvert_exporter": "python",
   "pygments_lexer": "ipython3",
   "version": "3.10.14"
  }
 },
 "nbformat": 4,
 "nbformat_minor": 5
}