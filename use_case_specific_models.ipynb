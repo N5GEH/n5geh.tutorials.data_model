{
 "cells": [
  {
   "cell_type": "markdown",
   "id": "2c9ed420",
   "metadata": {},
   "source": [
    "# N5GEH-Sev datamodeling workshop\n",
    "A data model is a conceptual representation of data objects, associations, and constraints. It provides a structured framework for understanding and organizing information within a database system, e.g. FIWARE stack.\n",
    "\n",
    "This example shows a workflow, how you can define or reuse use case specific data models and ensure FIWARE compatibility by merging these models with existing data model in FiLiP. The merged models can be used for interaction with FIWARE platform and in other information processing systems to establish interoperability."
   ]
  },
  {
   "cell_type": "markdown",
   "id": "6edb04fd",
   "metadata": {},
   "source": [
    "## Use Case\n",
    "In this example, our use case is to capture data and information of a weather station in FIWARE stack. We will first create data models for necessary components. And then, we will also showcase how to export, share and reuse the data models.\n",
    "\n",
    "## Import dependency"
   ]
  },
  {
   "cell_type": "code",
   "execution_count": 1,
   "id": "15e4fd0e",
   "metadata": {},
   "outputs": [
    {
     "ename": "ModuleNotFoundError",
     "evalue": "No module named 'geojson_pydantic'",
     "output_type": "error",
     "traceback": [
      "\u001B[1;31m---------------------------------------------------------------------------\u001B[0m",
      "\u001B[1;31mModuleNotFoundError\u001B[0m                       Traceback (most recent call last)",
      "Cell \u001B[1;32mIn[1], line 4\u001B[0m\n\u001B[0;32m      2\u001B[0m \u001B[38;5;28;01mfrom\u001B[39;00m \u001B[38;5;21;01mpydantic\u001B[39;00m\u001B[38;5;21;01m.\u001B[39;00m\u001B[38;5;21;01mfields\u001B[39;00m \u001B[38;5;28;01mimport\u001B[39;00m Field, FieldInfo\n\u001B[0;32m      3\u001B[0m \u001B[38;5;28;01mfrom\u001B[39;00m \u001B[38;5;21;01mtyping\u001B[39;00m \u001B[38;5;28;01mimport\u001B[39;00m Any, Optional\n\u001B[1;32m----> 4\u001B[0m \u001B[38;5;28;01mfrom\u001B[39;00m \u001B[38;5;21;01mfilip\u001B[39;00m\u001B[38;5;21;01m.\u001B[39;00m\u001B[38;5;21;01mmodels\u001B[39;00m \u001B[38;5;28;01mimport\u001B[39;00m FiwareHeader\n\u001B[0;32m      5\u001B[0m \u001B[38;5;28;01mfrom\u001B[39;00m \u001B[38;5;21;01mfilip\u001B[39;00m\u001B[38;5;21;01m.\u001B[39;00m\u001B[38;5;21;01mmodels\u001B[39;00m\u001B[38;5;21;01m.\u001B[39;00m\u001B[38;5;21;01mngsi_v2\u001B[39;00m\u001B[38;5;21;01m.\u001B[39;00m\u001B[38;5;21;01mcontext\u001B[39;00m \u001B[38;5;28;01mimport\u001B[39;00m ContextEntityKeyValues\n\u001B[0;32m      6\u001B[0m \u001B[38;5;28;01mfrom\u001B[39;00m \u001B[38;5;21;01mfilip\u001B[39;00m\u001B[38;5;21;01m.\u001B[39;00m\u001B[38;5;21;01mclients\u001B[39;00m\u001B[38;5;21;01m.\u001B[39;00m\u001B[38;5;21;01mngsi_v2\u001B[39;00m\u001B[38;5;21;01m.\u001B[39;00m\u001B[38;5;21;01mcb\u001B[39;00m \u001B[38;5;28;01mimport\u001B[39;00m ContextBrokerClient\n",
      "File \u001B[1;32m~\\Anaconda3\\envs\\n5g-workshop-test\\lib\\site-packages\\filip\\__init__.py:5\u001B[0m\n\u001B[0;32m      1\u001B[0m \u001B[38;5;124;03m\"\"\"\u001B[39;00m\n\u001B[0;32m      2\u001B[0m \u001B[38;5;124;03mfilip-Module. See readme or documentation for more information.\u001B[39;00m\n\u001B[0;32m      3\u001B[0m \u001B[38;5;124;03m\"\"\"\u001B[39;00m\n\u001B[0;32m      4\u001B[0m \u001B[38;5;28;01mfrom\u001B[39;00m \u001B[38;5;21;01mfilip\u001B[39;00m\u001B[38;5;21;01m.\u001B[39;00m\u001B[38;5;21;01mconfig\u001B[39;00m \u001B[38;5;28;01mimport\u001B[39;00m settings\n\u001B[1;32m----> 5\u001B[0m \u001B[38;5;28;01mfrom\u001B[39;00m \u001B[38;5;21;01mfilip\u001B[39;00m\u001B[38;5;21;01m.\u001B[39;00m\u001B[38;5;21;01mclients\u001B[39;00m\u001B[38;5;21;01m.\u001B[39;00m\u001B[38;5;21;01mngsi_v2\u001B[39;00m \u001B[38;5;28;01mimport\u001B[39;00m HttpClient\n\u001B[0;32m      7\u001B[0m __version__ \u001B[38;5;241m=\u001B[39m \u001B[38;5;124m'\u001B[39m\u001B[38;5;124m0.3.0\u001B[39m\u001B[38;5;124m'\u001B[39m\n",
      "File \u001B[1;32m~\\Anaconda3\\envs\\n5g-workshop-test\\lib\\site-packages\\filip\\clients\\ngsi_v2\\__init__.py:4\u001B[0m\n\u001B[0;32m      1\u001B[0m \u001B[38;5;124;03m\"\"\"\u001B[39;00m\n\u001B[0;32m      2\u001B[0m \u001B[38;5;124;03mHTTP clients for FIWARE's NGSIv2 APIs\u001B[39;00m\n\u001B[0;32m      3\u001B[0m \u001B[38;5;124;03m\"\"\"\u001B[39;00m\n\u001B[1;32m----> 4\u001B[0m \u001B[38;5;28;01mfrom\u001B[39;00m \u001B[38;5;21;01m.\u001B[39;00m\u001B[38;5;21;01mcb\u001B[39;00m \u001B[38;5;28;01mimport\u001B[39;00m ContextBrokerClient\n\u001B[0;32m      5\u001B[0m \u001B[38;5;28;01mfrom\u001B[39;00m \u001B[38;5;21;01m.\u001B[39;00m\u001B[38;5;21;01miota\u001B[39;00m \u001B[38;5;28;01mimport\u001B[39;00m IoTAClient\n\u001B[0;32m      6\u001B[0m \u001B[38;5;28;01mfrom\u001B[39;00m \u001B[38;5;21;01m.\u001B[39;00m\u001B[38;5;21;01mquantumleap\u001B[39;00m \u001B[38;5;28;01mimport\u001B[39;00m QuantumLeapClient\n",
      "File \u001B[1;32m~\\Anaconda3\\envs\\n5g-workshop-test\\lib\\site-packages\\filip\\clients\\ngsi_v2\\cb.py:20\u001B[0m\n\u001B[0;32m     18\u001B[0m \u001B[38;5;28;01mfrom\u001B[39;00m \u001B[38;5;21;01mfilip\u001B[39;00m\u001B[38;5;21;01m.\u001B[39;00m\u001B[38;5;21;01mmodels\u001B[39;00m\u001B[38;5;21;01m.\u001B[39;00m\u001B[38;5;21;01mbase\u001B[39;00m \u001B[38;5;28;01mimport\u001B[39;00m FiwareHeader, PaginationMethod\n\u001B[0;32m     19\u001B[0m \u001B[38;5;28;01mfrom\u001B[39;00m \u001B[38;5;21;01mfilip\u001B[39;00m\u001B[38;5;21;01m.\u001B[39;00m\u001B[38;5;21;01mutils\u001B[39;00m\u001B[38;5;21;01m.\u001B[39;00m\u001B[38;5;21;01msimple_ql\u001B[39;00m \u001B[38;5;28;01mimport\u001B[39;00m QueryString\n\u001B[1;32m---> 20\u001B[0m \u001B[38;5;28;01mfrom\u001B[39;00m \u001B[38;5;21;01mfilip\u001B[39;00m\u001B[38;5;21;01m.\u001B[39;00m\u001B[38;5;21;01mmodels\u001B[39;00m\u001B[38;5;21;01m.\u001B[39;00m\u001B[38;5;21;01mngsi_v2\u001B[39;00m\u001B[38;5;21;01m.\u001B[39;00m\u001B[38;5;21;01mcontext\u001B[39;00m \u001B[38;5;28;01mimport\u001B[39;00m (\n\u001B[0;32m     21\u001B[0m     ActionType,\n\u001B[0;32m     22\u001B[0m     Command,\n\u001B[0;32m     23\u001B[0m     ContextEntity,\n\u001B[0;32m     24\u001B[0m     ContextEntityKeyValues,\n\u001B[0;32m     25\u001B[0m     ContextAttribute,\n\u001B[0;32m     26\u001B[0m     NamedCommand,\n\u001B[0;32m     27\u001B[0m     NamedContextAttribute,\n\u001B[0;32m     28\u001B[0m     Query,\n\u001B[0;32m     29\u001B[0m     Update,\n\u001B[0;32m     30\u001B[0m     PropertyFormat,\n\u001B[0;32m     31\u001B[0m )\n\u001B[0;32m     32\u001B[0m \u001B[38;5;28;01mfrom\u001B[39;00m \u001B[38;5;21;01mfilip\u001B[39;00m\u001B[38;5;21;01m.\u001B[39;00m\u001B[38;5;21;01mmodels\u001B[39;00m\u001B[38;5;21;01m.\u001B[39;00m\u001B[38;5;21;01mngsi_v2\u001B[39;00m\u001B[38;5;21;01m.\u001B[39;00m\u001B[38;5;21;01mbase\u001B[39;00m \u001B[38;5;28;01mimport\u001B[39;00m AttrsFormat\n\u001B[0;32m     33\u001B[0m \u001B[38;5;28;01mfrom\u001B[39;00m \u001B[38;5;21;01mfilip\u001B[39;00m\u001B[38;5;21;01m.\u001B[39;00m\u001B[38;5;21;01mmodels\u001B[39;00m\u001B[38;5;21;01m.\u001B[39;00m\u001B[38;5;21;01mngsi_v2\u001B[39;00m\u001B[38;5;21;01m.\u001B[39;00m\u001B[38;5;21;01msubscriptions\u001B[39;00m \u001B[38;5;28;01mimport\u001B[39;00m Subscription, Message\n",
      "File \u001B[1;32m~\\Anaconda3\\envs\\n5g-workshop-test\\lib\\site-packages\\filip\\models\\ngsi_v2\\context.py:12\u001B[0m\n\u001B[0;32m      8\u001B[0m \u001B[38;5;28;01mfrom\u001B[39;00m \u001B[38;5;21;01mpydantic\u001B[39;00m \u001B[38;5;28;01mimport\u001B[39;00m field_validator, ConfigDict, BaseModel, Field, \\\n\u001B[0;32m      9\u001B[0m     model_validator\n\u001B[0;32m     10\u001B[0m \u001B[38;5;28;01mfrom\u001B[39;00m \u001B[38;5;21;01mpydantic_core\u001B[39;00m\u001B[38;5;21;01m.\u001B[39;00m\u001B[38;5;21;01mcore_schema\u001B[39;00m \u001B[38;5;28;01mimport\u001B[39;00m ValidationInfo\n\u001B[1;32m---> 12\u001B[0m \u001B[38;5;28;01mfrom\u001B[39;00m \u001B[38;5;21;01mfilip\u001B[39;00m\u001B[38;5;21;01m.\u001B[39;00m\u001B[38;5;21;01mmodels\u001B[39;00m\u001B[38;5;21;01m.\u001B[39;00m\u001B[38;5;21;01mngsi_v2\u001B[39;00m\u001B[38;5;21;01m.\u001B[39;00m\u001B[38;5;21;01mbase\u001B[39;00m \u001B[38;5;28;01mimport\u001B[39;00m (\n\u001B[0;32m     13\u001B[0m     EntityPattern,\n\u001B[0;32m     14\u001B[0m     Expression,\n\u001B[0;32m     15\u001B[0m     BaseAttribute,\n\u001B[0;32m     16\u001B[0m     BaseValueAttribute,\n\u001B[0;32m     17\u001B[0m     BaseNameAttribute,\n\u001B[0;32m     18\u001B[0m )\n\u001B[0;32m     19\u001B[0m \u001B[38;5;28;01mfrom\u001B[39;00m \u001B[38;5;21;01mfilip\u001B[39;00m\u001B[38;5;21;01m.\u001B[39;00m\u001B[38;5;21;01mmodels\u001B[39;00m\u001B[38;5;21;01m.\u001B[39;00m\u001B[38;5;21;01mbase\u001B[39;00m \u001B[38;5;28;01mimport\u001B[39;00m DataType\n\u001B[0;32m     20\u001B[0m \u001B[38;5;28;01mfrom\u001B[39;00m \u001B[38;5;21;01mfilip\u001B[39;00m\u001B[38;5;21;01m.\u001B[39;00m\u001B[38;5;21;01mutils\u001B[39;00m\u001B[38;5;21;01m.\u001B[39;00m\u001B[38;5;21;01mvalidators\u001B[39;00m \u001B[38;5;28;01mimport\u001B[39;00m (\n\u001B[0;32m     21\u001B[0m     validate_fiware_datatype_standard,\n\u001B[0;32m     22\u001B[0m     validate_fiware_datatype_string_protect,\n\u001B[0;32m     23\u001B[0m )\n",
      "File \u001B[1;32m~\\Anaconda3\\envs\\n5g-workshop-test\\lib\\site-packages\\filip\\models\\ngsi_v2\\base.py:7\u001B[0m\n\u001B[0;32m      4\u001B[0m \u001B[38;5;28;01mimport\u001B[39;00m \u001B[38;5;21;01mjson\u001B[39;00m\n\u001B[0;32m      6\u001B[0m \u001B[38;5;28;01mfrom\u001B[39;00m \u001B[38;5;21;01maenum\u001B[39;00m \u001B[38;5;28;01mimport\u001B[39;00m Enum\n\u001B[1;32m----> 7\u001B[0m \u001B[38;5;28;01mfrom\u001B[39;00m \u001B[38;5;21;01mgeojson_pydantic\u001B[39;00m \u001B[38;5;28;01mimport\u001B[39;00m (\n\u001B[0;32m      8\u001B[0m     Point,\n\u001B[0;32m      9\u001B[0m     MultiPoint,\n\u001B[0;32m     10\u001B[0m     LineString,\n\u001B[0;32m     11\u001B[0m     MultiLineString,\n\u001B[0;32m     12\u001B[0m     Polygon,\n\u001B[0;32m     13\u001B[0m     MultiPolygon,\n\u001B[0;32m     14\u001B[0m     Feature,\n\u001B[0;32m     15\u001B[0m     FeatureCollection,\n\u001B[0;32m     16\u001B[0m )\n\u001B[0;32m     17\u001B[0m \u001B[38;5;28;01mfrom\u001B[39;00m \u001B[38;5;21;01mpydantic\u001B[39;00m \u001B[38;5;28;01mimport\u001B[39;00m (\n\u001B[0;32m     18\u001B[0m     field_validator,\n\u001B[0;32m     19\u001B[0m     model_validator,\n\u001B[1;32m   (...)\u001B[0m\n\u001B[0;32m     26\u001B[0m     ValidationInfo,\n\u001B[0;32m     27\u001B[0m )\n\u001B[0;32m     29\u001B[0m \u001B[38;5;28;01mfrom\u001B[39;00m \u001B[38;5;21;01mtyping\u001B[39;00m \u001B[38;5;28;01mimport\u001B[39;00m Union, Optional, Pattern, List, Dict, Any\n",
      "\u001B[1;31mModuleNotFoundError\u001B[0m: No module named 'geojson_pydantic'"
     ]
    }
   ],
   "source": [
    "from pydantic import ConfigDict, BaseModel\n",
    "from pydantic.fields import Field, FieldInfo\n",
    "from typing import Any, Optional\n",
    "from filip.models import FiwareHeader\n",
    "from filip.models.ngsi_v2.context import ContextEntityKeyValues\n",
    "from filip.clients.ngsi_v2.cb import ContextBrokerClient"
   ]
  },
  {
   "cell_type": "markdown",
   "id": "da0c69c6",
   "metadata": {
    "pycharm": {
     "name": "#%% md\n"
    }
   },
   "source": [
    "## Create data model\n",
    "Good data modelling can harmonise representation formats and semantics for various applications. Therefore, we try to reuse existing data models. For our specific use case, we can also define our own data models.\n",
    "\n",
    "### Common data models\n",
    "Some data models are use case agnostic. For example, we reuse the data model of `PostalAddress` from [https://schema.org/](https://schema.org/) to represent the address of the weather station"
   ]
  },
  {
   "cell_type": "code",
   "execution_count": null,
   "id": "17dfac7b",
   "metadata": {
    "pycharm": {
     "name": "#%%\n"
    }
   },
   "outputs": [],
   "source": [
    "class PostalAddress(BaseModel):\n",
    "    \"\"\"\n",
    "    https://schema.org/PostalAddress\n",
    "    \"\"\"\n",
    "\n",
    "    model_config = ConfigDict(populate_by_name=True, coerce_numbers_to_str=True)  # Pydantic specific settings\n",
    "\n",
    "    addressCountry: str = Field(\n",
    "        alias=\"addressCountry\",\n",
    "        description=\"County code according to ISO 3166-1-alpha-2\",\n",
    "    )\n",
    "    streetAddress: str = Field(\n",
    "        alias=\"streetAddress\",\n",
    "        description=\"The street address. For example, 1600 Amphitheatre Pkwy.\",\n",
    "    )\n",
    "    addressRegion: Optional[str] = Field(\n",
    "        alias=\"addressRegion\",\n",
    "        default=None,\n",
    "    )\n",
    "    addressLocality: Optional[str] = Field(\n",
    "        alias=\"addressLocality\",\n",
    "        default=None,\n",
    "        description=\"The locality in which the street address is, and which is \"\n",
    "                    \"in the region. For example, Mountain View.\",\n",
    "    )\n",
    "    postalCode: Optional[str] = Field(\n",
    "        alias=\"postalCode\",\n",
    "        default=None,\n",
    "        description=\"The postal code. For example, 94043.\",\n",
    "    )"
   ]
  },
  {
   "cell_type": "markdown",
   "id": "6d4b4dd0",
   "metadata": {
    "pycharm": {
     "name": "#%% md\n"
    }
   },
   "source": [
    "### Domain data models\n",
    "Some other data models are related with a specific domain. For example, [Brick](https://brickschema.org/) provides an open-source standardized semantic description in building domain."
   ]
  },
  {
   "cell_type": "code",
   "execution_count": null,
   "id": "b64e72b1",
   "metadata": {
    "pycharm": {
     "name": "#%%\n"
    }
   },
   "outputs": [],
   "source": [
    "class OutsideAirTemperatureSensor(BaseModel):\n",
    "    temperature: float = Field(\n",
    "        default=20.0,\n",
    "        description=\"brick:Quantity, measure temperature in degree Celsius\"\n",
    "    )\n",
    "\n",
    "class OutsideAirHumiditySensor(BaseModel):\n",
    "    humidity: float = Field(\n",
    "        default=50.0,\n",
    "        description=\"brick:Quantity, measure humidity in percentage\"\n",
    "    )\n",
    "\n",
    "class WindDirectionSensor(BaseModel):\n",
    "    windDirection: float = Field(\n",
    "        default=90.0,\n",
    "        description=\"brick:Quantity, measure wind direction in degrees (0 degree for North)\"\n",
    "    )\n",
    "\n",
    "class WindSpeedSensor(BaseModel):\n",
    "    windSpeed: float = Field(\n",
    "        default=50.0,\n",
    "        description=\"brick:Quantity, measure wind speed in m/s\"\n",
    "    )\n",
    "\n",
    "class WeatherStation(BaseModel):\n",
    "    model_config = ConfigDict(coerce_numbers_to_str=True, extra=\"ignore\")  # Pydantic specific settings\n",
    "    # TODO Any\n",
    "    hasOutsideAirTemperatureSensor: Any = Field(\n",
    "        default=None,\n",
    "        description=\"brick:hasPoint, link with a URI of OutsideAirTemperatureSensor\",\n",
    "    )\n",
    "    hasOutsideAirHumiditySensor: Any = Field(\n",
    "        default=None,\n",
    "        description=\"brick:hasPoint, link with a URI of OutsideAirHumiditySensor\",\n",
    "    )\n",
    "    hasWindDirectionSensor: Any = Field(\n",
    "        default=None,\n",
    "        description=\"brick:hasPoint, link with a URI of WindDirectionSensor\",\n",
    "    )\n",
    "    hasWindSpeedSensor: Any = Field(\n",
    "        default=None,\n",
    "        description=\"brick:hasPoint, link with a URI of WindSpeedSensor\",\n",
    "    )\n",
    "    hasAddress: PostalAddress"
   ]
  },
  {
   "cell_type": "markdown",
   "id": "60fd6181",
   "metadata": {
    "pycharm": {
     "name": "#%% md\n"
    }
   },
   "source": [
    "## Compliance with FIWARE\n",
    "After creating the data models, we also want to ensure the FIWARE compatibility. For this purpose, we can simply merge the data models of our use cases with the existing FIWARE models in `FiLiP`"
   ]
  },
  {
   "cell_type": "code",
   "execution_count": null,
   "id": "d4c6a179",
   "metadata": {
    "pycharm": {
     "name": "#%%\n"
    }
   },
   "outputs": [],
   "source": [
    "# Merge models with simplified entity model\n",
    "class WeatherStationFIWARE(WeatherStation, ContextEntityKeyValues):\n",
    "    # add default for type if not explicitly set\n",
    "    type: str = FieldInfo.merge_field_infos(\n",
    "        # Field info of the general FIWARE data model in FiLiP\n",
    "        ContextEntityKeyValues.model_fields[\"type\"],\n",
    "        # set the default value\n",
    "        default=\"WeatherStation\",\n",
    "        description=\"Type of the Weather Station\",\n",
    "    )\n",
    "class OutsideAirTemperatureSensorFIWARE(OutsideAirTemperatureSensor, ContextEntityKeyValues):\n",
    "    type: str = FieldInfo.merge_field_infos(\n",
    "        # Field info of the general FIWARE data model in FiLiP\n",
    "        ContextEntityKeyValues.model_fields[\"type\"],\n",
    "        default=\"OutsideAirTemperatureSensor\"\n",
    "    )\n",
    "class OutsideAirHumiditySensorFIWARE(OutsideAirHumiditySensor, ContextEntityKeyValues):\n",
    "    type: str = FieldInfo.merge_field_infos(\n",
    "        # Field info of the general FIWARE data model in FiLiP\n",
    "        ContextEntityKeyValues.model_fields[\"type\"],\n",
    "        default=\"OutsideAirHumiditySensor\"\n",
    "    )\n",
    "\n",
    "class WindDirectionSensorFIWARE(WindDirectionSensor, ContextEntityKeyValues):\n",
    "    type: str = FieldInfo.merge_field_infos(\n",
    "        # Field info of the general FIWARE data model in FiLiP\n",
    "        ContextEntityKeyValues.model_fields[\"type\"],\n",
    "        default=\"WindDirectionSensor\"\n",
    "    )\n",
    "\n",
    "class WindSpeedSensorFIWARE(WindSpeedSensor, ContextEntityKeyValues):\n",
    "    type: str = FieldInfo.merge_field_infos(\n",
    "        # Field info of the general FIWARE data model in FiLiP\n",
    "        ContextEntityKeyValues.model_fields[\"type\"],\n",
    "        default=\"WindSpeedSensor\"\n",
    "    )"
   ]
  },
  {
   "cell_type": "markdown",
   "id": "3d3ea68e",
   "metadata": {
    "pycharm": {
     "name": "#%% md\n"
    }
   },
   "source": [
    "## Using data models for internal applications\n",
    "Initializing FIWARE API client"
   ]
  },
  {
   "cell_type": "code",
   "execution_count": null,
   "id": "df973933",
   "metadata": {
    "pycharm": {
     "name": "#%%\n"
    }
   },
   "outputs": [],
   "source": [
    "CB_URL = \"http://134.130.166.184:1026\"\n",
    "SERVICE = 'filip'  # FIWARE-Service\n",
    "SERVICE_PATH = '/'  # FIWARE-Servicepath\n",
    "fiware_header = FiwareHeader(service=SERVICE,\n",
    "                             service_path=SERVICE_PATH)\n",
    "cb_client = ContextBrokerClient(url=CB_URL, fiware_header=fiware_header)"
   ]
  },
  {
   "cell_type": "markdown",
   "id": "52ea7141",
   "metadata": {
    "jupyter": {
     "outputs_hidden": false
    },
    "pycharm": {
     "name": "#%% md\n"
    }
   },
   "source": [
    "Provision data points for sensors using data models"
   ]
  },
  {
   "cell_type": "code",
   "execution_count": null,
   "id": "6a54b34d",
   "metadata": {
    "jupyter": {
     "outputs_hidden": false
    },
    "pycharm": {
     "name": "#%%\n"
    }
   },
   "outputs": [],
   "source": [
    "t_sen = OutsideAirTemperatureSensorFIWARE(id=\"OutsideAirTemperatureSensor:01\")\n",
    "h_sen = OutsideAirHumiditySensorFIWARE(id=\"OutsideAirHumiditySensor:01\")\n",
    "wind_d = WindDirectionSensorFIWARE(id=\"WindDirectionSensor:01\")\n",
    "wind_s = WindSpeedSensorFIWARE(id=\"WindSpeedSensor:01\")\n",
    "for entity in (t_sen, h_sen, wind_s, wind_d):\n",
    "    cb_client.post_entity(entity=entity, key_values=True, update=True)"
   ]
  },
  {
   "cell_type": "markdown",
   "id": "b22f0c63",
   "metadata": {
    "jupyter": {
     "outputs_hidden": false
    },
    "pycharm": {
     "name": "#%% md\n"
    }
   },
   "source": [
    "Create weather station and link it with sensors using data models"
   ]
  },
  {
   "cell_type": "code",
   "execution_count": null,
   "id": "b9e40b1c",
   "metadata": {
    "jupyter": {
     "outputs_hidden": false
    },
    "pycharm": {
     "name": "#%%\n"
    }
   },
   "outputs": [],
   "source": [
    "ws = WeatherStationFIWARE(\n",
    "    id=\"WeatherStation:01\",\n",
    "    hasAddress={\n",
    "            \"addressCountry\": \"Germany\",\n",
    "            \"streetAddress\": \"Mathieustr. 10\",\n",
    "            \"postalCode\": 52072,\n",
    "        },\n",
    ")\n",
    "ws.hasOutsideAirTemperatureSensor = t_sen.id\n",
    "ws.hasOutsideAirHumiditySensor = h_sen.id\n",
    "ws.hasWindDirectionSensor = wind_d.id\n",
    "ws.hasWindSpeedSensor = wind_s.id\n",
    "cb_client.post_entity(entity=ws, key_values=True, update=True)"
   ]
  },
  {
   "cell_type": "markdown",
   "id": "ca1ef160",
   "metadata": {
    "jupyter": {
     "outputs_hidden": false
    },
    "pycharm": {
     "name": "#%% md\n"
    }
   },
   "source": [
    "Read and use data based on data model"
   ]
  },
  {
   "cell_type": "code",
   "execution_count": null,
   "id": "16b68813",
   "metadata": {
    "jupyter": {
     "outputs_hidden": false
    },
    "pycharm": {
     "name": "#%%\n"
    }
   },
   "outputs": [],
   "source": [
    "# Read weather station\n",
    "ws_data = cb_client.get_entity(entity_id=\"WeatherStation:01\", response_format=\"keyValues\").model_dump()\n",
    "print(ws_data)\n",
    "ws_general = WeatherStation.model_validate(ws_data)\n",
    "print(ws_general.model_dump_json(indent=2))\n",
    "\n",
    "address = ws_general.hasAddress\n",
    "print(address.model_dump_json(indent=2))\n",
    "\n",
    "# Read temperature\n",
    "temperature_sensor = OutsideAirTemperatureSensor.model_validate(\n",
    "    cb_client.get_entity(\n",
    "    entity_id=ws_general.hasOutsideAirTemperatureSensor,\n",
    "    response_format=\"keyValues\").model_dump()\n",
    ")\n",
    "print(f\"Current temperature: {temperature_sensor.temperature}\")"
   ]
  },
  {
   "cell_type": "markdown",
   "id": "5157a946",
   "metadata": {
    "pycharm": {
     "name": "#%% md\n"
    }
   },
   "source": [
    "## Using data models for external applications\n",
    "So far, data models are solely used by \"us,\" who created them. But what if we have to share the data with partners or external applications? In such scenarios, data models remain highly valuable, facilitating seamless data exchange through validation mechanisms and even programmable objects."
   ]
  },
  {
   "cell_type": "markdown",
   "id": "85b17e0b",
   "metadata": {
    "pycharm": {
     "name": "#%% md\n"
    }
   },
   "source": [
    "### Export serialized data models\n",
    "In order to share data models, we usually need to export the Pydantic classes to serialized data format, i.e. JSON Schema in this example."
   ]
  },
  {
   "cell_type": "code",
   "execution_count": null,
   "id": "fe80fff7-aabd-4ef7-844b-adb4d0a0d524",
   "metadata": {},
   "outputs": [],
   "source": [
    "from pprint import pprint\n",
    "import json\n",
    "weather_station_schema = WeatherStation.model_json_schema()\n",
    "with open(\"./weather_station_schema.json\", \"w\") as f:\n",
    "    json.dump(weather_station_schema, f)\n",
    "pprint(weather_station_schema)"
   ]
  },
  {
   "cell_type": "markdown",
   "id": "1e121604",
   "metadata": {
    "pycharm": {
     "name": "#%% md\n"
    }
   },
   "source": [
    "### Use data models in other applications\n",
    "As you can see above, the exported data model is based on normal JSON syntax, and is therefore both machine and human readable. There are various libraries, that support parsing this data. For example, in Python `jsonschema` can be use to validate the data against the data model, and `datamodel-code-generator` can be used to generate python objects."
   ]
  },
  {
   "cell_type": "code",
   "execution_count": null,
   "id": "b8ab6713-8721-48ad-b647-bab11f15508c",
   "metadata": {},
   "outputs": [],
   "source": [
    "# Validation\n",
    "from jsonschema import validate\n",
    "ws_data = cb_client.get_entity(entity_id=\"WeatherStation:01\", response_format=\"keyValues\").model_dump()\n",
    "validate(instance=ws_data, schema=weather_station_schema)\n",
    "print(\"The data conforms to the data model\")"
   ]
  },
  {
   "cell_type": "code",
   "execution_count": null,
   "id": "3b633d28-351f-4803-9e64-54edafadde47",
   "metadata": {},
   "outputs": [],
   "source": [
    "# Parse serialized models\n",
    "from pathlib import Path\n",
    "from datamodel_code_generator import generate, DataModelType, InputFileType\n",
    "output_path=Path(\"./output/weather_station.py\")\n",
    "class_name=\"GeneratedWeatherStation\"\n",
    "generate(Path(\"./weather_station_schema.json\"),\n",
    "         class_name=class_name,\n",
    "         output=output_path,\n",
    "         output_model_type=DataModelType.PydanticV2BaseModel,\n",
    "         use_subclass_enum=True,\n",
    "         input_file_type=InputFileType.JsonSchema\n",
    "        )\n",
    "print(f\"Pyhton object '{class_name}' generated in '{output_path}'\")"
   ]
  },
  {
   "cell_type": "code",
   "execution_count": null,
   "id": "3c19c342-235e-46c3-854a-c4805c6d275d",
   "metadata": {},
   "outputs": [],
   "source": [
    "# Use generated python object\n",
    "from output.weather_station import GeneratedWeatherStation\n",
    "ws_data = cb_client.get_entity(entity_id=\"WeatherStation:01\", response_format=\"keyValues\").model_dump()\n",
    "ws_generated = GeneratedWeatherStation.model_validate(ws_data)\n",
    "print(ws_generated.model_dump_json(indent=2))\n",
    "print(ws_generated.hasAddress.model_dump_json(indent=2))"
   ]
  },
  {
   "cell_type": "code",
   "execution_count": null,
   "id": "1fbe0b27-795a-48e9-9749-a0f47202ac1f",
   "metadata": {},
   "outputs": [],
   "source": []
  }
 ],
 "metadata": {
  "kernelspec": {
   "display_name": "n5g-workshop-test",
   "language": "python",
   "name": "n5g-workshop-test"
  },
  "language_info": {
   "codemirror_mode": {
    "name": "ipython",
    "version": 3
   },
   "file_extension": ".py",
   "mimetype": "text/x-python",
   "name": "python",
   "nbconvert_exporter": "python",
   "pygments_lexer": "ipython3",
   "version": "3.10.14"
  }
 },
 "nbformat": 4,
 "nbformat_minor": 5
}